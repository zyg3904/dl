{
  "nbformat": 4,
  "nbformat_minor": 0,
  "metadata": {
    "colab": {
      "provenance": [],
      "gpuType": "T4",
      "authorship_tag": "ABX9TyNtmmwYMqRq6bfJ7F84cTBl",
      "include_colab_link": true
    },
    "kernelspec": {
      "name": "python3",
      "display_name": "Python 3"
    },
    "language_info": {
      "name": "python"
    },
    "accelerator": "GPU"
  },
  "cells": [
    {
      "cell_type": "markdown",
      "metadata": {
        "id": "view-in-github",
        "colab_type": "text"
      },
      "source": [
        "<a href=\"https://colab.research.google.com/github/cseaboys/dl/blob/main/e5.ipynb\" target=\"_parent\"><img src=\"https://colab.research.google.com/assets/colab-badge.svg\" alt=\"Open In Colab\"/></a>"
      ]
    },
    {
      "cell_type": "code",
      "source": [
        "!pip install -q keras-tuner\n",
        "import numpy as np\n",
        "import tensorflow as tf\n",
        "import matplotlib.pyplot as plt\n",
        "import keras_tuner as kt"
      ],
      "metadata": {
        "id": "HQnwQSamoipU"
      },
      "execution_count": 7,
      "outputs": []
    },
    {
      "cell_type": "code",
      "source": [
        "(x_train, _), _ = tf.keras.datasets.mnist.load_data()\n",
        "x = x_train[:5000].astype(\"float32\") / 255.0\n",
        "x = x.reshape(len(x), -1)\n",
        "\n",
        "# add small gaussian noise\n",
        "noise = np.random.normal(0, 0.05, x.shape)\n",
        "x_noisy = np.clip(x + noise, 0.0, 1.0)\n",
        "\n",
        "# model builder for Keras Tuner\n",
        "def build_model(hp):\n",
        "    model = tf.keras.Sequential([\n",
        "        tf.keras.layers.InputLayer(shape=(784,)),\n",
        "        tf.keras.layers.Dense(hp.Int('units1', 128, 512, step=128), activation='relu'),\n",
        "        tf.keras.layers.Dense(hp.Int('units2', 64, 256, step=64), activation='relu'),\n",
        "        tf.keras.layers.Dense(784, activation='sigmoid')\n",
        "    ])\n",
        "    model.compile(optimizer=tf.keras.optimizers.Adam(),\n",
        "                  loss='mse')\n",
        "    return model\n"
      ],
      "metadata": {
        "id": "p7UsqW0IQaU-"
      },
      "execution_count": 8,
      "outputs": []
    },
    {
      "cell_type": "code",
      "source": [
        "# tuner\n",
        "tuner = kt.RandomSearch(\n",
        "    build_model,\n",
        "    objective='val_loss',\n",
        "    max_trials=4,\n",
        "    executions_per_trial=1,\n",
        "    directory='denoise_tuning',\n",
        "    project_name='mlp_mnist_simple'\n",
        ")\n",
        "\n",
        "tuner.search(x_noisy, x, epochs=6, validation_split=0.2, verbose=0)\n",
        "\n",
        "# best model\n",
        "best_model = tuner.get_best_models(num_models=1)[0]\n",
        "\n",
        "# denoise\n",
        "x_denoised = best_model.predict(x_noisy, verbose=0)\n"
      ],
      "metadata": {
        "colab": {
          "base_uri": "https://localhost:8080/"
        },
        "id": "wcx4orqXQvCG",
        "outputId": "f1888f66-7bbe-4cd9-89a5-e8ddf467fa14"
      },
      "execution_count": 9,
      "outputs": [
        {
          "output_type": "stream",
          "name": "stdout",
          "text": [
            "Reloading Tuner from denoise_tuning/mlp_mnist_simple/tuner0.json\n"
          ]
        }
      ]
    },
    {
      "cell_type": "code",
      "source": [
        "# image at index number 1\n",
        "image_index = 1\n",
        "plt.figure(figsize=(6,3))\n",
        "plt.subplot(1,2,1)\n",
        "plt.imshow(x_noisy[image_index].reshape(28,28), cmap='gray')\n",
        "plt.title(\"Noisy\")\n",
        "plt.axis('off')\n",
        "\n",
        "plt.subplot(1,2,2)\n",
        "plt.imshow(x_denoised[image_index].reshape(28,28), cmap='gray')\n",
        "plt.title(\"Denoised\")\n",
        "plt.axis('off')\n",
        "\n",
        "plt.show()"
      ],
      "metadata": {
        "colab": {
          "base_uri": "https://localhost:8080/",
          "height": 270
        },
        "id": "remOXBqPQx0c",
        "outputId": "f6b73053-3c12-4291-eedb-066f48a4ecdb"
      },
      "execution_count": 10,
      "outputs": [
        {
          "output_type": "display_data",
          "data": {
            "text/plain": [
              "<Figure size 600x300 with 2 Axes>"
            ],
            "image/png": "[encoded data removed]"
          },
          "metadata": {}
        }
      ]
    }
  ]
}