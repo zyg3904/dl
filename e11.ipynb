{
  "cells": [
    {
      "cell_type": "markdown",
      "metadata": {
        "id": "view-in-github",
        "colab_type": "text"
      },
      "source": [
        "<a href=\"https://colab.research.google.com/github/cseaboys/dl/blob/main/e11.ipynb\" target=\"_parent\"><img src=\"https://colab.research.google.com/assets/colab-badge.svg\" alt=\"Open In Colab\"/></a>"
      ]
    },
    {
      "cell_type": "code",
      "source": [
        "!pip install -q ultralytics"
      ],
      "metadata": {
        "id": "FrvbN0xfFhQM"
      },
      "execution_count": null,
      "outputs": []
    },
    {
      "cell_type": "code",
      "source": [
        "from ultralytics import YOLO\n",
        "import cv2\n",
        "import matplotlib.pyplot as plt\n",
        "from google.colab import files\n",
        "import numpy as np\n",
        "import os\n",
        "import sys"
      ],
      "metadata": {
        "id": "sOrTuhJtks56"
      },
      "execution_count": null,
      "outputs": []
    },
    {
      "cell_type": "code",
      "source": [
        "# Define 10 relevant categories\n",
        "WATCH_OPTIONS = {\n",
        "    1: \"person\",\n",
        "    2: \"car\",\n",
        "    3: \"truck\",\n",
        "    4: \"bus\",\n",
        "    5: \"motorcycle\",\n",
        "    6: \"bicycle\",\n",
        "    7: \"dog\",\n",
        "    8: \"cat\",\n",
        "    9: \"backpack\",\n",
        "    10: \"suitcase\"\n",
        "}\n",
        "\n",
        "print(\"Available categories to watch (choose up to 10):\")\n",
        "for k, v in WATCH_OPTIONS.items():\n",
        "    print(f\"{k}. {v}\")\n",
        "\n",
        "# User selects categories by index\n",
        "raw = input(\"\\nEnter indices to watch (comma-separated, e.g. 1,2,3): \").strip()\n",
        "if not raw:\n",
        "    selected = [1]  # Default to \"person\"\n",
        "else:\n",
        "    try:\n",
        "        selected = [int(x.strip()) for x in raw.split(\",\") if x.strip()]\n",
        "    except:\n",
        "        print(\"Invalid input. Defaulting to 'person'.\")\n",
        "        selected = [1]\n",
        "\n",
        "# Filter valid keys\n",
        "watched_classes = [WATCH_OPTIONS[i] for i in selected if i in WATCH_OPTIONS]\n",
        "if not watched_classes:\n",
        "    watched_classes = [\"person\"]\n",
        "\n",
        "print(\"\\nWatching for:\", watched_classes)\n",
        "\n",
        "# Confidence threshold\n",
        "try:\n",
        "    thr = float(input(\"\\nEnter confidence threshold (0–1, default 0.25): \") or 0.25)\n",
        "    thr = max(0.0, min(1.0, thr))\n",
        "except:\n",
        "    thr = 0.25\n",
        "\n",
        "print(f\"Using confidence threshold = {thr:.2f}\")"
      ],
      "metadata": {
        "id": "mqbotqsakxMz",
        "outputId": "7eb4642a-1e89-4c1b-a2e6-c951d4da451d",
        "colab": {
          "base_uri": "https://localhost:8080/"
        }
      },
      "execution_count": null,
      "outputs": [
        {
          "output_type": "stream",
          "name": "stdout",
          "text": [
            "Available categories to watch (choose up to 10):\n",
            "1. person\n",
            "2. car\n",
            "3. truck\n",
            "4. bus\n",
            "5. motorcycle\n",
            "6. bicycle\n",
            "7. dog\n",
            "8. cat\n",
            "9. backpack\n",
            "10. suitcase\n",
            "\n",
            "Enter indices to watch (comma-separated, e.g. 1,2,3): 2\n",
            "\n",
            "Watching for: ['car']\n",
            "\n",
            "Enter confidence threshold (0–1, default 0.25): \n",
            "Using confidence threshold = 0.25\n"
          ]
        }
      ]
    },
    {
      "cell_type": "code",
      "source": [
        "# Load YOLO model\n",
        "model_path = \"yolov5mu.pt\"\n",
        "\n",
        "model = YOLO(model_path)\n",
        "print(f\"\\nModel loaded: {model_path}\")\n"
      ],
      "metadata": {
        "id": "HLmgnRcgk546",
        "outputId": "dbdad556-20e3-4d48-a9ec-0ec5cf67c964",
        "colab": {
          "base_uri": "https://localhost:8080/"
        }
      },
      "execution_count": null,
      "outputs": [
        {
          "output_type": "stream",
          "name": "stdout",
          "text": [
            "\n",
            "Model loaded: yolov5mu.pt\n"
          ]
        }
      ]
    },
    {
      "cell_type": "code",
      "source": [
        "# Upload image(s)\n",
        "print(\"\\nUpload image(s) to analyze:\")\n",
        "uploaded = files.upload()\n",
        "if len(uploaded) == 0:\n",
        "    print(\"No files uploaded. Exiting.\")\n",
        "    sys.exit()\n",
        "for filename, filedata in uploaded.items():\n",
        "    print(f\"\\nProcessing '{filename}'...\")\n",
        "    img = cv2.imdecode(np.frombuffer(filedata, np.uint8), cv2.IMREAD_COLOR)\n",
        "    if img is None:\n",
        "        print(\"Error reading image. Skipping.\")\n",
        "        continue\n",
        "\n",
        "    img_rgb = cv2.cvtColor(img, cv2.COLOR_BGR2RGB)\n",
        "    results = model(img_rgb)\n",
        "    r = results[0]\n",
        "\n",
        "    # Check for watched categories\n",
        "    found_watch = []\n",
        "    for box in r.boxes:\n",
        "        cls_name = r.names[int(box.cls)]\n",
        "        conf = float(box.conf)\n",
        "        if cls_name in watched_classes and conf >= thr:\n",
        "            found_watch.append((cls_name, conf))\n",
        "\n",
        "    # Print recording status\n",
        "    if found_watch:\n",
        "        print(\"\\nStart recording\")\n",
        "        for cname, conf in found_watch:\n",
        "            print(f\"Found {cname} confidence: {conf * 100:.2f}%\")\n",
        "    else:\n",
        "        print(\"\\nStop recording\")\n",
        "        print(\"No watched objects detected.\")\n",
        "\n",
        "    # Annotate and show result\n",
        "    annotated = r.plot()\n",
        "    plt.figure(figsize=(10, 8))\n",
        "    plt.imshow(annotated)\n",
        "    plt.axis(\"off\")\n",
        "    plt.title(f\"Detections: {filename}\")\n",
        "    plt.show()\n",
        "\n",
        "print(\"\\nDone.\")"
      ],
      "metadata": {
        "id": "9fbcUdi2lcsL",
        "outputId": "ec4d13b0-47d9-4c00-c9e1-a79347b5f97b",
        "colab": {
          "base_uri": "https://localhost:8080/",
          "height": 810
        }
      },
      "execution_count": null,
      "outputs": [
        {
          "output_type": "stream",
          "name": "stdout",
          "text": [
            "\n",
            "Upload image(s) to analyze:\n"
          ]
        },
        {
          "output_type": "display_data",
          "data": {
            "text/plain": [
              "<IPython.core.display.HTML object>"
            ],
            "text/html": [
              "\n",
              "     <input type=\"file\" id=\"files-a3a15869-e38d-4e0b-adba-b162648c8865\" name=\"files[]\" multiple disabled\n",
              "        style=\"border:none\" />\n",
              "     <output id=\"result-a3a15869-e38d-4e0b-adba-b162648c8865\">\n",
              "      Upload widget is only available when the cell has been executed in the\n",
              "      current browser session. Please rerun this cell to enable.\n",
              "      </output>\n",
              "      <script>// Copyright 2017 Google LLC\n",
              "//\n",
              "// Licensed under the Apache License, Version 2.0 (the \"License\");\n",
              "// you may not use this file except in compliance with the License.\n",
              "// You may obtain a copy of the License at\n",
              "//\n",
              "//      http://www.apache.org/licenses/LICENSE-2.0\n",
              "//\n",
              "// Unless required by applicable law or agreed to in writing, software\n",
              "// distributed under the License is distributed on an \"AS IS\" BASIS,\n",
              "// WITHOUT WARRANTIES OR CONDITIONS OF ANY KIND, either express or implied.\n",
              "// See the License for the specific language governing permissions and\n",
              "// limitations under the License.\n",
              "\n",
              "/**\n",
              " * @fileoverview Helpers for google.colab Python module.\n",
              " */\n",
              "(function(scope) {\n",
              "function span(text, styleAttributes = {}) {\n",
              "  const element = document.createElement('span');\n",
              "  element.textContent = text;\n",
              "  for (const key of Object.keys(styleAttributes)) {\n",
              "    element.style[key] = styleAttributes[key];\n",
              "  }\n",
              "  return element;\n",
              "}\n",
              "\n",
              "// Max number of bytes which will be uploaded at a time.\n",
              "const MAX_PAYLOAD_SIZE = 100 * 1024;\n",
              "\n",
              "function _uploadFiles(inputId, outputId) {\n",
              "  const steps = uploadFilesStep(inputId, outputId);\n",
              "  const outputElement = document.getElementById(outputId);\n",
              "  // Cache steps on the outputElement to make it available for the next call\n",
              "  // to uploadFilesContinue from Python.\n",
              "  outputElement.steps = steps;\n",
              "\n",
              "  return _uploadFilesContinue(outputId);\n",
              "}\n",
              "\n",
              "// This is roughly an async generator (not supported in the browser yet),\n",
              "// where there are multiple asynchronous steps and the Python side is going\n",
              "// to poll for completion of each step.\n",
              "// This uses a Promise to block the python side on completion of each step,\n",
              "// then passes the result of the previous step as the input to the next step.\n",
              "function _uploadFilesContinue(outputId) {\n",
              "  const outputElement = document.getElementById(outputId);\n",
              "  const steps = outputElement.steps;\n",
              "\n",
              "  const next = steps.next(outputElement.lastPromiseValue);\n",
              "  return Promise.resolve(next.value.promise).then((value) => {\n",
              "    // Cache the last promise value to make it available to the next\n",
              "    // step of the generator.\n",
              "    outputElement.lastPromiseValue = value;\n",
              "    return next.value.response;\n",
              "  });\n",
              "}\n",
              "\n",
              "/**\n",
              " * Generator function which is called between each async step of the upload\n",
              " * process.\n",
              " * @param {string} inputId Element ID of the input file picker element.\n",
              " * @param {string} outputId Element ID of the output display.\n",
              " * @return {!Iterable<!Object>} Iterable of next steps.\n",
              " */\n",
              "function* uploadFilesStep(inputId, outputId) {\n",
              "  const inputElement = document.getElementById(inputId);\n",
              "  inputElement.disabled = false;\n",
              "\n",
              "  const outputElement = document.getElementById(outputId);\n",
              "  outputElement.innerHTML = '';\n",
              "\n",
              "  const pickedPromise = new Promise((resolve) => {\n",
              "    inputElement.addEventListener('change', (e) => {\n",
              "      resolve(e.target.files);\n",
              "    });\n",
              "  });\n",
              "\n",
              "  const cancel = document.createElement('button');\n",
              "  inputElement.parentElement.appendChild(cancel);\n",
              "  cancel.textContent = 'Cancel upload';\n",
              "  const cancelPromise = new Promise((resolve) => {\n",
              "    cancel.onclick = () => {\n",
              "      resolve(null);\n",
              "    };\n",
              "  });\n",
              "\n",
              "  // Wait for the user to pick the files.\n",
              "  const files = yield {\n",
              "    promise: Promise.race([pickedPromise, cancelPromise]),\n",
              "    response: {\n",
              "      action: 'starting',\n",
              "    }\n",
              "  };\n",
              "\n",
              "  cancel.remove();\n",
              "\n",
              "  // Disable the input element since further picks are not allowed.\n",
              "  inputElement.disabled = true;\n",
              "\n",
              "  if (!files) {\n",
              "    return {\n",
              "      response: {\n",
              "        action: 'complete',\n",
              "      }\n",
              "    };\n",
              "  }\n",
              "\n",
              "  for (const file of files) {\n",
              "    const li = document.createElement('li');\n",
              "    li.append(span(file.name, {fontWeight: 'bold'}));\n",
              "    li.append(span(\n",
              "        `(${file.type || 'n/a'}) - ${file.size} bytes, ` +\n",
              "        `last modified: ${\n",
              "            file.lastModifiedDate ? file.lastModifiedDate.toLocaleDateString() :\n",
              "                                    'n/a'} - `));\n",
              "    const percent = span('0% done');\n",
              "    li.appendChild(percent);\n",
              "\n",
              "    outputElement.appendChild(li);\n",
              "\n",
              "    const fileDataPromise = new Promise((resolve) => {\n",
              "      const reader = new FileReader();\n",
              "      reader.onload = (e) => {\n",
              "        resolve(e.target.result);\n",
              "      };\n",
              "      reader.readAsArrayBuffer(file);\n",
              "    });\n",
              "    // Wait for the data to be ready.\n",
              "    let fileData = yield {\n",
              "      promise: fileDataPromise,\n",
              "      response: {\n",
              "        action: 'continue',\n",
              "      }\n",
              "    };\n",
              "\n",
              "    // Use a chunked sending to avoid message size limits. See b/62115660.\n",
              "    let position = 0;\n",
              "    do {\n",
              "      const length = Math.min(fileData.byteLength - position, MAX_PAYLOAD_SIZE);\n",
              "      const chunk = new Uint8Array(fileData, position, length);\n",
              "      position += length;\n",
              "\n",
              "      const base64 = btoa(String.fromCharCode.apply(null, chunk));\n",
              "      yield {\n",
              "        response: {\n",
              "          action: 'append',\n",
              "          file: file.name,\n",
              "          data: base64,\n",
              "        },\n",
              "      };\n",
              "\n",
              "      let percentDone = fileData.byteLength === 0 ?\n",
              "          100 :\n",
              "          Math.round((position / fileData.byteLength) * 100);\n",
              "      percent.textContent = `${percentDone}% done`;\n",
              "\n",
              "    } while (position < fileData.byteLength);\n",
              "  }\n",
              "\n",
              "  // All done.\n",
              "  yield {\n",
              "    response: {\n",
              "      action: 'complete',\n",
              "    }\n",
              "  };\n",
              "}\n",
              "\n",
              "scope.google = scope.google || {};\n",
              "scope.google.colab = scope.google.colab || {};\n",
              "scope.google.colab._files = {\n",
              "  _uploadFiles,\n",
              "  _uploadFilesContinue,\n",
              "};\n",
              "})(self);\n",
              "</script> "
            ]
          },
          "metadata": {}
        },
        {
          "output_type": "stream",
          "name": "stdout",
          "text": [
            "Saving car.jpg to car (3).jpg\n",
            "\n",
            "Processing 'car (3).jpg'...\n",
            "\n",
            "0: 416x640 1 car, 25.8ms\n",
            "Speed: 6.1ms preprocess, 25.8ms inference, 1.5ms postprocess per image at shape (1, 3, 416, 640)\n",
            "\n",
            "Start recording\n",
            "Found car confidence: 84.98%\n"
          ]
        },
        {
          "output_type": "display_data",
          "data": {
            "text/plain": [
              "<Figure size 1000x800 with 1 Axes>"
            ],
            "image/png": "[encoded data removed]"
          },
          "metadata": {}
        },
        {
          "output_type": "stream",
          "name": "stdout",
          "text": [
            "\n",
            "Done.\n"
          ]
        }
      ]
    }
  ],
  "metadata": {
    "colab": {
      "provenance": [],
      "gpuType": "T4",
      "include_colab_link": true
    },
    "kernelspec": {
      "display_name": "Python 3",
      "name": "python3"
    },
    "accelerator": "GPU"
  },
  "nbformat": 4,
  "nbformat_minor": 0
}